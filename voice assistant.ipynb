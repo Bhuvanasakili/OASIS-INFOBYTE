{
 "cells": [
  {
   "cell_type": "code",
   "execution_count": 8,
   "id": "6314c2fa-d8cb-475e-810b-eb5a2ee3f27f",
   "metadata": {},
   "outputs": [
    {
     "ename": "NameError",
     "evalue": "name 'sr' is not defined",
     "output_type": "error",
     "traceback": [
      "\u001b[1;31m---------------------------------------------------------------------------\u001b[0m",
      "\u001b[1;31mNameError\u001b[0m                                 Traceback (most recent call last)",
      "Cell \u001b[1;32mIn[8], line 26\u001b[0m\n\u001b[0;32m     24\u001b[0m \u001b[38;5;66;03m# Main loop\u001b[39;00m\n\u001b[0;32m     25\u001b[0m \u001b[38;5;28;01mwhile\u001b[39;00m \u001b[38;5;28;01mTrue\u001b[39;00m:\n\u001b[1;32m---> 26\u001b[0m     command \u001b[38;5;241m=\u001b[39m \u001b[43mlisten\u001b[49m\u001b[43m(\u001b[49m\u001b[43m)\u001b[49m\n\u001b[0;32m     28\u001b[0m     \u001b[38;5;28;01mif\u001b[39;00m \u001b[38;5;124m\"\u001b[39m\u001b[38;5;124mhello\u001b[39m\u001b[38;5;124m\"\u001b[39m \u001b[38;5;129;01min\u001b[39;00m command:\n\u001b[0;32m     29\u001b[0m         speak(\u001b[38;5;124m\"\u001b[39m\u001b[38;5;124mHello! How can I assist you today?\u001b[39m\u001b[38;5;124m\"\u001b[39m)\n",
      "Cell \u001b[1;32mIn[8], line 10\u001b[0m, in \u001b[0;36mlisten\u001b[1;34m()\u001b[0m\n\u001b[0;32m      9\u001b[0m \u001b[38;5;28;01mdef\u001b[39;00m \u001b[38;5;21mlisten\u001b[39m():\n\u001b[1;32m---> 10\u001b[0m     \u001b[38;5;28;01mwith\u001b[39;00m \u001b[43msr\u001b[49m\u001b[38;5;241m.\u001b[39mMicrophone() \u001b[38;5;28;01mas\u001b[39;00m source:\n\u001b[0;32m     11\u001b[0m         \u001b[38;5;28mprint\u001b[39m(\u001b[38;5;124m\"\u001b[39m\u001b[38;5;124mListening...\u001b[39m\u001b[38;5;124m\"\u001b[39m)\n\u001b[0;32m     12\u001b[0m         audio \u001b[38;5;241m=\u001b[39m recognizer\u001b[38;5;241m.\u001b[39mlisten(source)\n",
      "\u001b[1;31mNameError\u001b[0m: name 'sr' is not defined"
     ]
    }
   ],
   "source": [
    "\n",
    "import datetime\n",
    "\n",
    "# Function to speak a response\n",
    "def speak(text):\n",
    "    engine.say(text)\n",
    "    engine.runAndWait()\n",
    "\n",
    "# Function to listen to voice commands\n",
    "def listen():\n",
    "    with sr.Microphone() as source:\n",
    "        print(\"Listening...\")\n",
    "        audio = recognizer.listen(source)\n",
    "        try:\n",
    "            command = recognizer.recognize_google(audio)\n",
    "            print(\"You said: \" + command)\n",
    "            return command\n",
    "        except sr.UnknownValueError:\n",
    "            print(\"Sorry, I did not understand your command.\")\n",
    "            return \"\"\n",
    "        except sr.RequestError as e:\n",
    "            print(f\"Could not request results; {e}\")\n",
    "            return \"\"\n",
    "\n",
    "# Main loop\n",
    "while True:\n",
    "    command = listen()\n",
    "\n",
    "    if \"hello\" in command:\n",
    "        speak(\"Hello! How can I assist you today?\")\n",
    "    elif \"how are you?\" in command:\n",
    "        speak(\"I am fine! what about you?\")\n",
    "    elif \"play\" in command:\n",
    "        song = command.replace('play', \"\")\n",
    "        speak(\"Playing..\" +song)\n",
    "        pywhatkit.playonyt(song)\n",
    "        break\n",
    "    elif \"time\" in command:\n",
    "        time = datetime.datetime.now().strftime('%I:%M%p')\n",
    "        speak('Current Time' +time)\n",
    "    elif \"date\" in command:\n",
    "        date = datetime.datetime.now().strftime('%d /%m /%Y')\n",
    "        speak('Todays Date' +date)\n",
    "\n",
    "    elif \"goodbye\" in command:\n",
    "        speak(\"Yeah,Goodbye!\")\n",
    "        break\n",
    "    else:\n",
    "        speak(\"I'm sorry, I do not understand that command.\")\n",
    "        break"
   ]
  }
 ],
 "metadata": {
  "kernelspec": {
   "display_name": "Python 3 (ipykernel)",
   "language": "python",
   "name": "python3"
  },
  "language_info": {
   "codemirror_mode": {
    "name": "ipython",
    "version": 3
   },
   "file_extension": ".py",
   "mimetype": "text/x-python",
   "name": "python",
   "nbconvert_exporter": "python",
   "pygments_lexer": "ipython3",
   "version": "3.12.0"
  }
 },
 "nbformat": 4,
 "nbformat_minor": 5
}
